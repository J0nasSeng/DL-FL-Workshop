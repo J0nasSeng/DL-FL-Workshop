{
 "cells": [
  {
   "cell_type": "code",
   "execution_count": 1,
   "metadata": {},
   "outputs": [
    {
     "data": {
      "text/plain": [
       "True"
      ]
     },
     "execution_count": 1,
     "metadata": {},
     "output_type": "execute_result"
    }
   ],
   "source": [
    "import torch\n",
    "torch.cuda.is_available()"
   ]
  },
  {
   "cell_type": "code",
   "execution_count": 7,
   "metadata": {},
   "outputs": [
    {
     "name": "stdout",
     "output_type": "stream",
     "text": [
      "WARNING:torch.distributed.run:\n",
      "*****************************************\n",
      "Setting OMP_NUM_THREADS environment variable for each process to be 1 in default, to avoid your system being overloaded, please further tune the variable for optimal performance in your application as needed. \n",
      "*****************************************\n",
      "[2023-06-13 14:27:50,364][torch.distributed.distributed_c10d][INFO] - Added key: store_based_barrier_key:1 to store for rank: 0\n",
      "[2023-06-13 14:27:50,364][torch.distributed.distributed_c10d][INFO] - Added key: store_based_barrier_key:1 to store for rank: 1\n",
      "[2023-06-13 14:27:50,364][torch.distributed.distributed_c10d][INFO] - Rank 1: Completed store-based barrier for key:store_based_barrier_key:1 with 2 nodes.\n",
      "[2023-06-13 14:27:50,374][torch.distributed.distributed_c10d][INFO] - Rank 0: Completed store-based barrier for key:store_based_barrier_key:1 with 2 nodes.\n",
      "^C\n",
      "WARNING:torch.distributed.elastic.agent.server.api:Received 2 death signal, shutting down workers\n",
      "WARNING:torch.distributed.elastic.multiprocessing.api:Sending process 180973 closing signal SIGINT\n",
      "WARNING:torch.distributed.elastic.multiprocessing.api:Sending process 180974 closing signal SIGINT\n"
     ]
    }
   ],
   "source": [
    "!torchrun --nproc_per_node=2 main.py"
   ]
  },
  {
   "cell_type": "code",
   "execution_count": 1,
   "metadata": {},
   "outputs": [],
   "source": [
    "import subprocess"
   ]
  },
  {
   "cell_type": "code",
   "execution_count": 8,
   "metadata": {},
   "outputs": [],
   "source": [
    "CLIENTS_NR = 2\n",
    "clients = []\n",
    "for c in range(CLIENTS_NR):\n",
    "    client = subprocess.Popen(['python', 'main.py', '--id', str(c)])\n",
    "    clients.append(client)"
   ]
  },
  {
   "cell_type": "code",
   "execution_count": 9,
   "metadata": {},
   "outputs": [
    {
     "name": "stderr",
     "output_type": "stream",
     "text": [
      "usage: main.py [--help] [--hydra-help] [--version] [--cfg {job,hydra,all}]\n",
      "               [--resolve] [--package PACKAGE] [--run] [--multirun]\n",
      "               [--shell-completion] [--config-path CONFIG_PATH]\n",
      "               [--config-name CONFIG_NAME] [--config-dir CONFIG_DIR]\n",
      "               [--experimental-rerun EXPERIMENTAL_RERUN]\n",
      "               [--info [{all,config,defaults,defaults-tree,plugins,searchpath}]]\n",
      "               [overrides ...]\n",
      "main.py: error: unrecognized arguments: --id\n",
      "usage: main.py [--help] [--hydra-help] [--version] [--cfg {job,hydra,all}]\n",
      "               [--resolve] [--package PACKAGE] [--run] [--multirun]\n",
      "               [--shell-completion] [--config-path CONFIG_PATH]\n",
      "               [--config-name CONFIG_NAME] [--config-dir CONFIG_DIR]\n",
      "               [--experimental-rerun EXPERIMENTAL_RERUN]\n",
      "               [--info [{all,config,defaults,defaults-tree,plugins,searchpath}]]\n",
      "               [overrides ...]\n",
      "main.py: error: unrecognized arguments: --id\n"
     ]
    },
    {
     "name": "stdout",
     "output_type": "stream",
     "text": [
      "Init processes\n",
      "Done\n",
      "Init processes\n",
      "Done\n"
     ]
    },
    {
     "name": "stderr",
     "output_type": "stream",
     "text": [
      "[W tensorpipe_agent.cpp:726] RPC agent for worker_1 encountered error when reading incoming request from worker_0: EOF: end of file (this error originated at tensorpipe/transport/uv/connection_impl.cc:132)\n"
     ]
    }
   ],
   "source": [
    "# wait for clients to finish\n",
    "for c in clients:\n",
    "    c.wait()"
   ]
  },
  {
   "cell_type": "code",
   "execution_count": null,
   "metadata": {},
   "outputs": [],
   "source": []
  }
 ],
 "metadata": {
  "kernelspec": {
   "display_name": "Python 3 (ipykernel)",
   "language": "python",
   "name": "python3"
  },
  "language_info": {
   "codemirror_mode": {
    "name": "ipython",
    "version": 3
   },
   "file_extension": ".py",
   "mimetype": "text/x-python",
   "name": "python",
   "nbconvert_exporter": "python",
   "pygments_lexer": "ipython3",
   "version": "3.9.16"
  }
 },
 "nbformat": 4,
 "nbformat_minor": 4
}
