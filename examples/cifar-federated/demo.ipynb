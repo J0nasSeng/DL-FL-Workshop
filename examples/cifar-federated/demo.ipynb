{
 "cells": [
  {
   "cell_type": "code",
   "execution_count": 1,
   "metadata": {},
   "outputs": [],
   "source": [
    "import subprocess"
   ]
  },
  {
   "cell_type": "code",
   "execution_count": 21,
   "metadata": {},
   "outputs": [
    {
     "name": "stderr",
     "output_type": "stream",
     "text": [
      "Using cache found in /home/ux270150/.cache/torch/hub/NVIDIA_DeepLearningExamples_torchhub\n",
      "INFO flwr 2023-06-13 15:08:55,010 | app.py:148 | Starting Flower server, config: ServerConfig(num_rounds=4, round_timeout=None)\n",
      "INFO flwr 2023-06-13 15:08:55,026 | app.py:168 | Flower ECE: gRPC server running (4 rounds), SSL is disabled\n",
      "INFO flwr 2023-06-13 15:08:55,026 | server.py:86 | Initializing global parameters\n",
      "INFO flwr 2023-06-13 15:08:55,026 | server.py:269 | Using initial parameters provided by strategy\n",
      "INFO flwr 2023-06-13 15:08:55,026 | server.py:88 | Evaluating initial parameters\n"
     ]
    }
   ],
   "source": [
    "# start server\n",
    "server = subprocess.Popen(['python', 'server.py'])"
   ]
  },
  {
   "cell_type": "code",
   "execution_count": 22,
   "metadata": {},
   "outputs": [],
   "source": [
    "# start clients\n",
    "CLIENTS_NR = 2\n",
    "clients = []\n",
    "for c in range(CLIENTS_NR):\n",
    "    client = subprocess.Popen(['python', 'client.py', '--gpu', str(c), '--partition', str(c)])\n",
    "    clients.append(client)"
   ]
  },
  {
   "cell_type": "code",
   "execution_count": 23,
   "metadata": {},
   "outputs": [
    {
     "name": "stderr",
     "output_type": "stream",
     "text": [
      "INFO flwr 2023-06-13 15:09:06,086 | grpc.py:50 | Opened insecure gRPC connection (no certificates were passed)\n",
      "DEBUG flwr 2023-06-13 15:09:06,125 | connection.py:39 | ChannelConnectivity.IDLE\n",
      "DEBUG flwr 2023-06-13 15:09:06,126 | connection.py:39 | ChannelConnectivity.READY\n",
      "INFO flwr 2023-06-13 15:09:06,299 | grpc.py:50 | Opened insecure gRPC connection (no certificates were passed)\n",
      "DEBUG flwr 2023-06-13 15:09:06,301 | connection.py:39 | ChannelConnectivity.IDLE\n",
      "DEBUG flwr 2023-06-13 15:09:06,302 | connection.py:39 | ChannelConnectivity.CONNECTING\n",
      "DEBUG flwr 2023-06-13 15:09:06,336 | connection.py:39 | ChannelConnectivity.READY\n"
     ]
    },
    {
     "name": "stdout",
     "output_type": "stream",
     "text": [
      "Files already downloaded and verified\n",
      "Files already downloaded and verified\n",
      "Starting evalutation...\n",
      "Files already downloaded and verified\n",
      "Files already downloaded and verified\n"
     ]
    },
    {
     "name": "stderr",
     "output_type": "stream",
     "text": [
      "Traceback (most recent call last):\n",
      "  File \"/rwthfs/rz/cluster/home/ux270150/jupyterlab/DL-FL-Workshop/examples/cifar-federated/server.py\", line 118, in <module>\n",
      "    main()\n",
      "  File \"/rwthfs/rz/cluster/home/ux270150/jupyterlab/DL-FL-Workshop/examples/cifar-federated/server.py\", line 110, in main\n",
      "    fl.server.start_server(\n",
      "  File \"/cvmfs/sys.hpc.itc.rwth-aachen.de/jupyter/clients/nhr-ml-workshop/lib/python3.9/site-packages/flwr/server/app.py\", line 176, in start_server\n",
      "    hist = _fl(\n",
      "  File \"/cvmfs/sys.hpc.itc.rwth-aachen.de/jupyter/clients/nhr-ml-workshop/lib/python3.9/site-packages/flwr/server/app.py\", line 217, in _fl\n",
      "    hist = server.fit(num_rounds=config.num_rounds, timeout=config.round_timeout)\n",
      "  File \"/cvmfs/sys.hpc.itc.rwth-aachen.de/jupyter/clients/nhr-ml-workshop/lib/python3.9/site-packages/flwr/server/server.py\", line 89, in fit\n",
      "    res = self.strategy.evaluate(0, parameters=self.parameters)\n",
      "  File \"/cvmfs/sys.hpc.itc.rwth-aachen.de/jupyter/clients/nhr-ml-workshop/lib/python3.9/site-packages/flwr/server/strategy/fedavg.py\", line 164, in evaluate\n",
      "    eval_res = self.evaluate_fn(server_round, parameters_ndarrays, {})\n",
      "  File \"/rwthfs/rz/cluster/home/ux270150/jupyterlab/DL-FL-Workshop/examples/cifar-federated/server.py\", line 67, in evaluate\n",
      "    loss, accuracy = utils.test(model, valLoader)\n",
      "  File \"/rwthfs/rz/cluster/home/ux270150/jupyterlab/DL-FL-Workshop/examples/cifar-federated/utils.py\", line 87, in test\n",
      "    outputs = net(images)\n",
      "  File \"/cvmfs/sys.hpc.itc.rwth-aachen.de/jupyter/clients/nhr-ml-workshop/lib/python3.9/site-packages/torch/nn/modules/module.py\", line 1194, in _call_impl\n",
      "    return forward_call(*input, **kwargs)\n",
      "  File \"/home/ux270150/.cache/torch/hub/NVIDIA_DeepLearningExamples_torchhub/PyTorch/Classification/ConvNets/image_classification/models/efficientnet.py\", line 233, in forward\n",
      "    x = self.layers(x)\n",
      "  File \"/cvmfs/sys.hpc.itc.rwth-aachen.de/jupyter/clients/nhr-ml-workshop/lib/python3.9/site-packages/torch/nn/modules/module.py\", line 1194, in _call_impl\n",
      "    return forward_call(*input, **kwargs)\n",
      "  File \"/cvmfs/sys.hpc.itc.rwth-aachen.de/jupyter/clients/nhr-ml-workshop/lib/python3.9/site-packages/torch/nn/modules/container.py\", line 204, in forward\n",
      "    input = module(input)\n",
      "  File \"/cvmfs/sys.hpc.itc.rwth-aachen.de/jupyter/clients/nhr-ml-workshop/lib/python3.9/site-packages/torch/nn/modules/module.py\", line 1194, in _call_impl\n",
      "    return forward_call(*input, **kwargs)\n",
      "  File \"/cvmfs/sys.hpc.itc.rwth-aachen.de/jupyter/clients/nhr-ml-workshop/lib/python3.9/site-packages/torch/nn/modules/container.py\", line 204, in forward\n",
      "    input = module(input)\n",
      "  File \"/cvmfs/sys.hpc.itc.rwth-aachen.de/jupyter/clients/nhr-ml-workshop/lib/python3.9/site-packages/torch/nn/modules/module.py\", line 1194, in _call_impl\n",
      "    return forward_call(*input, **kwargs)\n",
      "  File \"/home/ux270150/.cache/torch/hub/NVIDIA_DeepLearningExamples_torchhub/PyTorch/Classification/ConvNets/image_classification/models/efficientnet.py\", line 446, in forward\n",
      "    b = self.proj(\n",
      "  File \"/cvmfs/sys.hpc.itc.rwth-aachen.de/jupyter/clients/nhr-ml-workshop/lib/python3.9/site-packages/torch/nn/modules/module.py\", line 1194, in _call_impl\n",
      "    return forward_call(*input, **kwargs)\n",
      "  File \"/cvmfs/sys.hpc.itc.rwth-aachen.de/jupyter/clients/nhr-ml-workshop/lib/python3.9/site-packages/torch/nn/modules/container.py\", line 204, in forward\n",
      "    input = module(input)\n",
      "  File \"/cvmfs/sys.hpc.itc.rwth-aachen.de/jupyter/clients/nhr-ml-workshop/lib/python3.9/site-packages/torch/nn/modules/module.py\", line 1194, in _call_impl\n",
      "    return forward_call(*input, **kwargs)\n",
      "  File \"/cvmfs/sys.hpc.itc.rwth-aachen.de/jupyter/clients/nhr-ml-workshop/lib/python3.9/site-packages/torch/nn/modules/batchnorm.py\", line 171, in forward\n",
      "    return F.batch_norm(\n",
      "  File \"/cvmfs/sys.hpc.itc.rwth-aachen.de/jupyter/clients/nhr-ml-workshop/lib/python3.9/site-packages/torch/nn/functional.py\", line 2450, in batch_norm\n",
      "    return torch.batch_norm(\n",
      "KeyboardInterrupt\n",
      "DEBUG flwr 2023-06-13 15:10:18,716 | connection.py:113 | gRPC channel closed\n",
      "Traceback (most recent call last):\n",
      "  File \"/rwthfs/rz/cluster/home/ux270150/jupyterlab/DL-FL-Workshop/examples/cifar-federated/client.py\", line 154, in <module>\n",
      "    main()\n",
      "  File \"/rwthfs/rz/cluster/home/ux270150/jupyterlab/DL-FL-Workshop/examples/cifar-federated/client.py\", line 150, in main\n",
      "    fl.client.start_numpy_client(server_address=\"127.0.0.1:30000\", client=client)\n",
      "  File \"/cvmfs/sys.hpc.itc.rwth-aachen.de/jupyter/clients/nhr-ml-workshop/lib/python3.9/site-packages/flwr/client/app.py\", line 252, in start_numpy_client\n",
      "    start_client(\n",
      "  File \"/cvmfs/sys.hpc.itc.rwth-aachen.de/jupyter/clients/nhr-ml-workshop/lib/python3.9/site-packages/flwr/client/app.py\", line 174, in start_client\n",
      "    server_message = receive()\n",
      "  File \"/cvmfs/sys.hpc.itc.rwth-aachen.de/jupyter/clients/nhr-ml-workshop/lib/python3.9/site-packages/flwr/client/grpc_client/connection.py\", line 105, in <lambda>\n",
      "    receive: Callable[[], ServerMessage] = lambda: next(server_message_iterator)\n",
      "  File \"/cvmfs/sys.hpc.itc.rwth-aachen.de/jupyter/clients/nhr-ml-workshop/lib/python3.9/site-packages/grpc/_channel.py\", line 475, in __next__\n",
      "    return self._next()\n",
      "  File \"/cvmfs/sys.hpc.itc.rwth-aachen.de/jupyter/clients/nhr-ml-workshop/lib/python3.9/site-packages/grpc/_channel.py\", line 872, in _next\n",
      "    _common.wait(self._state.condition.wait, _response_ready)\n",
      "  File \"/cvmfs/sys.hpc.itc.rwth-aachen.de/jupyter/clients/nhr-ml-workshop/lib/python3.9/site-packages/grpc/_common.py\", line 150, in wait\n",
      "    _wait_once(wait_fn, MAXIMUM_WAIT_TIMEOUT, spin_cb)\n",
      "  File \"/cvmfs/sys.hpc.itc.rwth-aachen.de/jupyter/clients/nhr-ml-workshop/lib/python3.9/site-packages/grpc/_common.py\", line 112, in _wait_once\n",
      "    wait_fn(timeout=timeout)\n",
      "  File \"/cvmfs/sys.hpc.itc.rwth-aachen.de/jupyter/clients/nhr-ml-workshop/lib/python3.9/threading.py\", line 316, in wait\n",
      "    gotit = waiter.acquire(True, timeout)\n",
      "KeyboardInterrupt\n"
     ]
    },
    {
     "name": "stdout",
     "output_type": "stream",
     "text": [
      "Files already downloaded and verified\n",
      "Files already downloaded and verified\n"
     ]
    },
    {
     "name": "stderr",
     "output_type": "stream",
     "text": [
      "DEBUG flwr 2023-06-13 15:10:18,828 | connection.py:113 | gRPC channel closed\n",
      "Traceback (most recent call last):\n",
      "  File \"/rwthfs/rz/cluster/home/ux270150/jupyterlab/DL-FL-Workshop/examples/cifar-federated/client.py\", line 154, in <module>\n",
      "    main()\n",
      "  File \"/rwthfs/rz/cluster/home/ux270150/jupyterlab/DL-FL-Workshop/examples/cifar-federated/client.py\", line 150, in main\n",
      "    fl.client.start_numpy_client(server_address=\"127.0.0.1:30000\", client=client)\n",
      "  File \"/cvmfs/sys.hpc.itc.rwth-aachen.de/jupyter/clients/nhr-ml-workshop/lib/python3.9/site-packages/flwr/client/app.py\", line 252, in start_numpy_client\n",
      "    start_client(\n",
      "  File \"/cvmfs/sys.hpc.itc.rwth-aachen.de/jupyter/clients/nhr-ml-workshop/lib/python3.9/site-packages/flwr/client/app.py\", line 174, in start_client\n",
      "    server_message = receive()\n",
      "  File \"/cvmfs/sys.hpc.itc.rwth-aachen.de/jupyter/clients/nhr-ml-workshop/lib/python3.9/site-packages/flwr/client/grpc_client/connection.py\", line 105, in <lambda>\n",
      "    receive: Callable[[], ServerMessage] = lambda: next(server_message_iterator)\n",
      "  File \"/cvmfs/sys.hpc.itc.rwth-aachen.de/jupyter/clients/nhr-ml-workshop/lib/python3.9/site-packages/grpc/_channel.py\", line 475, in __next__\n",
      "    return self._next()\n",
      "  File \"/cvmfs/sys.hpc.itc.rwth-aachen.de/jupyter/clients/nhr-ml-workshop/lib/python3.9/site-packages/grpc/_channel.py\", line 872, in _next\n",
      "    _common.wait(self._state.condition.wait, _response_ready)\n",
      "  File \"/cvmfs/sys.hpc.itc.rwth-aachen.de/jupyter/clients/nhr-ml-workshop/lib/python3.9/site-packages/grpc/_common.py\", line 150, in wait\n",
      "    _wait_once(wait_fn, MAXIMUM_WAIT_TIMEOUT, spin_cb)\n",
      "  File \"/cvmfs/sys.hpc.itc.rwth-aachen.de/jupyter/clients/nhr-ml-workshop/lib/python3.9/site-packages/grpc/_common.py\", line 112, in _wait_once\n",
      "    wait_fn(timeout=timeout)\n",
      "  File \"/cvmfs/sys.hpc.itc.rwth-aachen.de/jupyter/clients/nhr-ml-workshop/lib/python3.9/threading.py\", line 316, in wait\n",
      "    gotit = waiter.acquire(True, timeout)\n",
      "KeyboardInterrupt\n"
     ]
    },
    {
     "ename": "KeyboardInterrupt",
     "evalue": "",
     "output_type": "error",
     "traceback": [
      "\u001b[0;31m---------------------------------------------------------------------------\u001b[0m",
      "\u001b[0;31mKeyboardInterrupt\u001b[0m                         Traceback (most recent call last)",
      "Cell \u001b[0;32mIn[23], line 3\u001b[0m\n\u001b[1;32m      1\u001b[0m \u001b[38;5;66;03m# wait for clients to finish\u001b[39;00m\n\u001b[1;32m      2\u001b[0m \u001b[38;5;28;01mfor\u001b[39;00m c \u001b[38;5;129;01min\u001b[39;00m clients:\n\u001b[0;32m----> 3\u001b[0m     \u001b[43mc\u001b[49m\u001b[38;5;241;43m.\u001b[39;49m\u001b[43mwait\u001b[49m\u001b[43m(\u001b[49m\u001b[43m)\u001b[49m\n",
      "File \u001b[0;32m/cvmfs/sys.hpc.itc.rwth-aachen.de/jupyter/clients/nhr-ml-workshop/lib/python3.9/subprocess.py:1189\u001b[0m, in \u001b[0;36mPopen.wait\u001b[0;34m(self, timeout)\u001b[0m\n\u001b[1;32m   1187\u001b[0m     endtime \u001b[38;5;241m=\u001b[39m _time() \u001b[38;5;241m+\u001b[39m timeout\n\u001b[1;32m   1188\u001b[0m \u001b[38;5;28;01mtry\u001b[39;00m:\n\u001b[0;32m-> 1189\u001b[0m     \u001b[38;5;28;01mreturn\u001b[39;00m \u001b[38;5;28;43mself\u001b[39;49m\u001b[38;5;241;43m.\u001b[39;49m\u001b[43m_wait\u001b[49m\u001b[43m(\u001b[49m\u001b[43mtimeout\u001b[49m\u001b[38;5;241;43m=\u001b[39;49m\u001b[43mtimeout\u001b[49m\u001b[43m)\u001b[49m\n\u001b[1;32m   1190\u001b[0m \u001b[38;5;28;01mexcept\u001b[39;00m \u001b[38;5;167;01mKeyboardInterrupt\u001b[39;00m:\n\u001b[1;32m   1191\u001b[0m     \u001b[38;5;66;03m# https://bugs.python.org/issue25942\u001b[39;00m\n\u001b[1;32m   1192\u001b[0m     \u001b[38;5;66;03m# The first keyboard interrupt waits briefly for the child to\u001b[39;00m\n\u001b[1;32m   1193\u001b[0m     \u001b[38;5;66;03m# exit under the common assumption that it also received the ^C\u001b[39;00m\n\u001b[1;32m   1194\u001b[0m     \u001b[38;5;66;03m# generated SIGINT and will exit rapidly.\u001b[39;00m\n\u001b[1;32m   1195\u001b[0m     \u001b[38;5;28;01mif\u001b[39;00m timeout \u001b[38;5;129;01mis\u001b[39;00m \u001b[38;5;129;01mnot\u001b[39;00m \u001b[38;5;28;01mNone\u001b[39;00m:\n",
      "File \u001b[0;32m/cvmfs/sys.hpc.itc.rwth-aachen.de/jupyter/clients/nhr-ml-workshop/lib/python3.9/subprocess.py:1917\u001b[0m, in \u001b[0;36mPopen._wait\u001b[0;34m(self, timeout)\u001b[0m\n\u001b[1;32m   1915\u001b[0m \u001b[38;5;28;01mif\u001b[39;00m \u001b[38;5;28mself\u001b[39m\u001b[38;5;241m.\u001b[39mreturncode \u001b[38;5;129;01mis\u001b[39;00m \u001b[38;5;129;01mnot\u001b[39;00m \u001b[38;5;28;01mNone\u001b[39;00m:\n\u001b[1;32m   1916\u001b[0m     \u001b[38;5;28;01mbreak\u001b[39;00m  \u001b[38;5;66;03m# Another thread waited.\u001b[39;00m\n\u001b[0;32m-> 1917\u001b[0m (pid, sts) \u001b[38;5;241m=\u001b[39m \u001b[38;5;28;43mself\u001b[39;49m\u001b[38;5;241;43m.\u001b[39;49m\u001b[43m_try_wait\u001b[49m\u001b[43m(\u001b[49m\u001b[38;5;241;43m0\u001b[39;49m\u001b[43m)\u001b[49m\n\u001b[1;32m   1918\u001b[0m \u001b[38;5;66;03m# Check the pid and loop as waitpid has been known to\u001b[39;00m\n\u001b[1;32m   1919\u001b[0m \u001b[38;5;66;03m# return 0 even without WNOHANG in odd situations.\u001b[39;00m\n\u001b[1;32m   1920\u001b[0m \u001b[38;5;66;03m# http://bugs.python.org/issue14396.\u001b[39;00m\n\u001b[1;32m   1921\u001b[0m \u001b[38;5;28;01mif\u001b[39;00m pid \u001b[38;5;241m==\u001b[39m \u001b[38;5;28mself\u001b[39m\u001b[38;5;241m.\u001b[39mpid:\n",
      "File \u001b[0;32m/cvmfs/sys.hpc.itc.rwth-aachen.de/jupyter/clients/nhr-ml-workshop/lib/python3.9/subprocess.py:1875\u001b[0m, in \u001b[0;36mPopen._try_wait\u001b[0;34m(self, wait_flags)\u001b[0m\n\u001b[1;32m   1873\u001b[0m \u001b[38;5;250m\u001b[39m\u001b[38;5;124;03m\"\"\"All callers to this function MUST hold self._waitpid_lock.\"\"\"\u001b[39;00m\n\u001b[1;32m   1874\u001b[0m \u001b[38;5;28;01mtry\u001b[39;00m:\n\u001b[0;32m-> 1875\u001b[0m     (pid, sts) \u001b[38;5;241m=\u001b[39m \u001b[43mos\u001b[49m\u001b[38;5;241;43m.\u001b[39;49m\u001b[43mwaitpid\u001b[49m\u001b[43m(\u001b[49m\u001b[38;5;28;43mself\u001b[39;49m\u001b[38;5;241;43m.\u001b[39;49m\u001b[43mpid\u001b[49m\u001b[43m,\u001b[49m\u001b[43m \u001b[49m\u001b[43mwait_flags\u001b[49m\u001b[43m)\u001b[49m\n\u001b[1;32m   1876\u001b[0m \u001b[38;5;28;01mexcept\u001b[39;00m \u001b[38;5;167;01mChildProcessError\u001b[39;00m:\n\u001b[1;32m   1877\u001b[0m     \u001b[38;5;66;03m# This happens if SIGCLD is set to be ignored or waiting\u001b[39;00m\n\u001b[1;32m   1878\u001b[0m     \u001b[38;5;66;03m# for child processes has otherwise been disabled for our\u001b[39;00m\n\u001b[1;32m   1879\u001b[0m     \u001b[38;5;66;03m# process.  This child is dead, we can't get the status.\u001b[39;00m\n\u001b[1;32m   1880\u001b[0m     pid \u001b[38;5;241m=\u001b[39m \u001b[38;5;28mself\u001b[39m\u001b[38;5;241m.\u001b[39mpid\n",
      "\u001b[0;31mKeyboardInterrupt\u001b[0m: "
     ]
    }
   ],
   "source": [
    "# wait for clients to finish\n",
    "for c in clients:\n",
    "    c.wait()"
   ]
  },
  {
   "cell_type": "code",
   "execution_count": 24,
   "metadata": {},
   "outputs": [],
   "source": [
    "server.kill()"
   ]
  },
  {
   "cell_type": "code",
   "execution_count": null,
   "metadata": {},
   "outputs": [],
   "source": []
  }
 ],
 "metadata": {
  "kernelspec": {
   "display_name": "Python 3 (ipykernel)",
   "language": "python",
   "name": "python3"
  },
  "language_info": {
   "codemirror_mode": {
    "name": "ipython",
    "version": 3
   },
   "file_extension": ".py",
   "mimetype": "text/x-python",
   "name": "python",
   "nbconvert_exporter": "python",
   "pygments_lexer": "ipython3",
   "version": "3.9.16"
  }
 },
 "nbformat": 4,
 "nbformat_minor": 4
}
