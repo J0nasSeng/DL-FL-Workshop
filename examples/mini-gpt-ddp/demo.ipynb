{
 "cells": [
  {
   "cell_type": "code",
   "execution_count": 1,
   "metadata": {},
   "outputs": [
    {
     "data": {
      "text/plain": [
       "True"
      ]
     },
     "execution_count": 1,
     "metadata": {},
     "output_type": "execute_result"
    }
   ],
   "source": [
    "import torch\n",
    "torch.cuda.is_available()"
   ]
  },
  {
   "cell_type": "code",
   "execution_count": 2,
   "metadata": {},
   "outputs": [
    {
     "name": "stdout",
     "output_type": "stream",
     "text": [
      "WARNING:torch.distributed.run:\n",
      "*****************************************\n",
      "Setting OMP_NUM_THREADS environment variable for each process to be 1 in default, to avoid your system being overloaded, please further tune the variable for optimal performance in your application as needed. \n",
      "*****************************************\n",
      "[2023-06-13 14:05:14,267][torch.distributed.distributed_c10d][INFO] - Added key: store_based_barrier_key:1 to store for rank: 1\n",
      "[2023-06-13 14:05:14,267][torch.distributed.distributed_c10d][INFO] - Added key: store_based_barrier_key:1 to store for rank: 0\n",
      "[2023-06-13 14:05:14,267][torch.distributed.distributed_c10d][INFO] - Rank 1: Completed store-based barrier for key:store_based_barrier_key:1 with 2 nodes.\n",
      "[2023-06-13 14:05:14,267][torch.distributed.distributed_c10d][INFO] - Rank 0: Completed store-based barrier for key:store_based_barrier_key:1 with 2 nodes.\n",
      "Data has 55769 characters, 59 unique.\n",
      "Data has 55769 characters, 59 unique.\n",
      "number of parameters: 27.32M\n",
      "number of parameters: 27.32M\n",
      "/cvmfs/sys.hpc.itc.rwth-aachen.de/jupyter/clients/nhr-ml-workshop/lib/python3.9/site-packages/torch/utils/data/dataloader.py:554: UserWarning: This DataLoader will create 2 worker processes in total. Our suggested max number of worker in current system is 1, which is smaller than what this DataLoader is going to create. Please be aware that excessive worker creation might get DataLoader running slow or even freeze, lower the worker number to avoid potential slowness/freeze if necessary.\n",
      "  warnings.warn(_create_warning_msg(\n",
      "/cvmfs/sys.hpc.itc.rwth-aachen.de/jupyter/clients/nhr-ml-workshop/lib/python3.9/site-packages/torch/utils/data/dataloader.py:554: UserWarning: This DataLoader will create 2 worker processes in total. Our suggested max number of worker in current system is 1, which is smaller than what this DataLoader is going to create. Please be aware that excessive worker creation might get DataLoader running slow or even freeze, lower the worker number to avoid potential slowness/freeze if necessary.\n",
      "  warnings.warn(_create_warning_msg(\n",
      "Snapshot not found. Training model from scratch\n",
      "Snapshot not found. Training model from scratch\n",
      "[GPU0] Epoch 1 | Iter 0 | Train Loss 4.22487\n",
      "[GPU1] Epoch 1 | Iter 0 | Train Loss 4.22783\n",
      "[2023-06-13 14:05:24,292][torch.nn.parallel.distributed][INFO] - Reducer buckets have been rebuilt in this iteration.\n",
      "[2023-06-13 14:05:24,293][torch.nn.parallel.distributed][INFO] - Reducer buckets have been rebuilt in this iteration.\n",
      "[GPU1] Epoch 1 | Iter 100 | Train Loss 2.28892\n",
      "[GPU0] Epoch 1 | Iter 100 | Train Loss 2.27638\n",
      "[GPU0] Epoch 1 | Iter 0 | Eval Loss 2.24916\n",
      "[GPU1] Epoch 1 | Iter 0 | Eval Loss 2.26025\n",
      "[GPU1] Epoch 2 | Iter 0 | Train Loss 2.24975\n",
      "[GPU0] Epoch 2 | Iter 0 | Train Loss 2.28012\n",
      "[GPU0] Epoch 2 | Iter 100 | Train Loss 2.11358\n",
      "[GPU1] Epoch 2 | Iter 100 | Train Loss 2.11573\n",
      "[GPU0] Epoch 2 | Iter 0 | Eval Loss 2.09229\n",
      "[GPU1] Epoch 2 | Iter 0 | Eval Loss 2.08717\n",
      "[GPU0] Epoch 3 | Iter 0 | Train Loss 2.08353\n",
      "[GPU1] Epoch 3 | Iter 0 | Train Loss 2.08034\n",
      "[GPU1] Epoch 3 | Iter 100 | Train Loss 1.96412\n",
      "[GPU0] Epoch 3 | Iter 100 | Train Loss 1.95690\n",
      "Snapshot saved at epoch 3\n",
      "[GPU0] Epoch 3 | Iter 0 | Eval Loss 1.95885\n",
      "[GPU1] Epoch 3 | Iter 0 | Eval Loss 1.94032\n",
      "[GPU1] Epoch 4 | Iter 0 | Train Loss 1.95352\n",
      "[GPU0] Epoch 4 | Iter 0 | Train Loss 1.95285\n",
      "[GPU0] Epoch 4 | Iter 100 | Train Loss 1.71342\n",
      "[GPU1] Epoch 4 | Iter 100 | Train Loss 1.71990\n",
      "[GPU1] Epoch 4 | Iter 0 | Eval Loss 1.68748\n",
      "[GPU0] Epoch 4 | Iter 0 | Eval Loss 1.66344\n",
      "[GPU0] Epoch 5 | Iter 0 | Train Loss 1.65542\n",
      "[GPU1] Epoch 5 | Iter 0 | Train Loss 1.66620\n",
      "[GPU1] Epoch 5 | Iter 100 | Train Loss 1.34285\n",
      "[GPU0] Epoch 5 | Iter 100 | Train Loss 1.36314\n",
      "[GPU1] Epoch 5 | Iter 0 | Eval Loss 1.31862\n",
      "[GPU0] Epoch 5 | Iter 0 | Eval Loss 1.28994\n",
      "[GPU0] Epoch 6 | Iter 0 | Train Loss 1.29646\n",
      "[GPU1] Epoch 6 | Iter 0 | Train Loss 1.29670\n",
      "[GPU1] Epoch 6 | Iter 100 | Train Loss 1.09607\n",
      "[GPU0] Epoch 6 | Iter 100 | Train Loss 1.09437\n",
      "Snapshot saved at epoch 6\n",
      "[GPU0] Epoch 6 | Iter 0 | Eval Loss 1.08612\n",
      "[GPU1] Epoch 6 | Iter 0 | Eval Loss 1.07245\n",
      "[GPU0] Epoch 7 | Iter 0 | Train Loss 1.08241\n",
      "[GPU1] Epoch 7 | Iter 0 | Train Loss 1.08971\n",
      "[GPU1] Epoch 7 | Iter 100 | Train Loss 0.88693\n",
      "[GPU0] Epoch 7 | Iter 100 | Train Loss 0.89880\n",
      "[GPU1] Epoch 7 | Iter 0 | Eval Loss 0.86899\n",
      "[GPU0] Epoch 7 | Iter 0 | Eval Loss 0.86148\n",
      "[GPU0] Epoch 8 | Iter 0 | Train Loss 0.85037\n",
      "[GPU1] Epoch 8 | Iter 0 | Train Loss 0.85756\n",
      "[GPU1] Epoch 8 | Iter 100 | Train Loss 0.70964\n",
      "[GPU0] Epoch 8 | Iter 100 | Train Loss 0.71548\n",
      "[GPU1] Epoch 8 | Iter 0 | Eval Loss 0.70126\n",
      "[GPU0] Epoch 8 | Iter 0 | Eval Loss 0.67887\n",
      "[GPU1] Epoch 9 | Iter 0 | Train Loss 0.70613\n",
      "[GPU0] Epoch 9 | Iter 0 | Train Loss 0.69035\n",
      "[GPU1] Epoch 9 | Iter 100 | Train Loss 0.50085\n",
      "[GPU0] Epoch 9 | Iter 100 | Train Loss 0.48910\n",
      "Snapshot saved at epoch 9\n",
      "[GPU0] Epoch 9 | Iter 0 | Eval Loss 0.47548\n",
      "[GPU1] Epoch 9 | Iter 0 | Eval Loss 0.47440\n",
      "[GPU0] Epoch 10 | Iter 0 | Train Loss 0.46746\n",
      "[GPU1] Epoch 10 | Iter 0 | Train Loss 0.47731\n",
      "[GPU1] Epoch 10 | Iter 100 | Train Loss 0.35636\n",
      "[GPU0] Epoch 10 | Iter 100 | Train Loss 0.36496\n",
      "[GPU0] Epoch 10 | Iter 0 | Eval Loss 0.34208\n",
      "[GPU1] Epoch 10 | Iter 0 | Eval Loss 0.33730\n"
     ]
    }
   ],
   "source": [
    "!torchrun --nproc_per_node=2 main.py"
   ]
  },
  {
   "cell_type": "code",
   "execution_count": null,
   "metadata": {},
   "outputs": [],
   "source": []
  }
 ],
 "metadata": {
  "kernelspec": {
   "display_name": "Python 3 (ipykernel)",
   "language": "python",
   "name": "python3"
  },
  "language_info": {
   "codemirror_mode": {
    "name": "ipython",
    "version": 3
   },
   "file_extension": ".py",
   "mimetype": "text/x-python",
   "name": "python",
   "nbconvert_exporter": "python",
   "pygments_lexer": "ipython3",
   "version": "3.9.16"
  }
 },
 "nbformat": 4,
 "nbformat_minor": 4
}
