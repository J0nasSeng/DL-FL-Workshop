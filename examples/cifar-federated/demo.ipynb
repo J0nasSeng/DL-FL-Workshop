{
 "cells": [
  {
   "cell_type": "code",
   "execution_count": 1,
   "metadata": {},
   "outputs": [],
   "source": [
    "import subprocess"
   ]
  },
  {
   "cell_type": "code",
   "execution_count": 6,
   "metadata": {},
   "outputs": [
    {
     "name": "stderr",
     "output_type": "stream",
     "text": [
      "Using cache found in /home/jonas/.cache/torch/hub/NVIDIA_DeepLearningExamples_torchhub\n"
     ]
    }
   ],
   "source": [
    "# start server\n",
    "server = subprocess.Popen(['python', 'server.py'])"
   ]
  },
  {
   "cell_type": "code",
   "execution_count": null,
   "metadata": {},
   "outputs": [
    {
     "name": "stdout",
     "output_type": "stream",
     "text": [
      "Files already downloaded and verified\n"
     ]
    },
    {
     "name": "stdout",
     "output_type": "stream",
     "text": [
      "Files already downloaded and verified\n"
     ]
    },
    {
     "name": "stderr",
     "output_type": "stream",
     "text": [
      "INFO flwr 2023-06-12 13:36:13,908 | app.py:148 | Starting Flower server, config: ServerConfig(num_rounds=4, round_timeout=None)\n",
      "INFO flwr 2023-06-12 13:36:13,914 | app.py:168 | Flower ECE: gRPC server running (4 rounds), SSL is disabled\n",
      "INFO flwr 2023-06-12 13:36:13,914 | server.py:86 | Initializing global parameters\n",
      "INFO flwr 2023-06-12 13:36:13,914 | server.py:269 | Using initial parameters provided by strategy\n",
      "INFO flwr 2023-06-12 13:36:13,914 | server.py:88 | Evaluating initial parameters\n"
     ]
    },
    {
     "name": "stdout",
     "output_type": "stream",
     "text": [
      "Starting evalutation...\n",
      "Files already downloaded and verified\n",
      "Files already downloaded and verified\n",
      "Files already downloaded and verified\n",
      "Files already downloaded and verified\n"
     ]
    },
    {
     "name": "stderr",
     "output_type": "stream",
     "text": [
      "INFO flwr 2023-06-12 13:36:17,076 | grpc.py:50 | Opened insecure gRPC connection (no certificates were passed)\n",
      "DEBUG flwr 2023-06-12 13:36:17,078 | connection.py:39 | ChannelConnectivity.IDLE\n",
      "DEBUG flwr 2023-06-12 13:36:17,079 | connection.py:39 | ChannelConnectivity.CONNECTING\n",
      "DEBUG flwr 2023-06-12 13:36:17,080 | connection.py:39 | ChannelConnectivity.READY\n",
      "INFO flwr 2023-06-12 13:36:17,193 | grpc.py:50 | Opened insecure gRPC connection (no certificates were passed)\n",
      "DEBUG flwr 2023-06-12 13:36:17,202 | connection.py:39 | ChannelConnectivity.IDLE\n",
      "DEBUG flwr 2023-06-12 13:36:17,202 | connection.py:39 | ChannelConnectivity.READY\n"
     ]
    }
   ],
   "source": [
    "# start clients\n",
    "CLIENTS_NR = 2\n",
    "clients = []\n",
    "for c in range(CLIENTS_NR):\n",
    "    client = subprocess.Popen(['python', 'client.py', '--gpu', str(c), '--partition', str(c)])\n",
    "    clients.append(client)"
   ]
  },
  {
   "cell_type": "code",
   "execution_count": 8,
   "metadata": {},
   "outputs": [
    {
     "name": "stderr",
     "output_type": "stream",
     "text": [
      "INFO flwr 2023-06-12 13:37:42,217 | server.py:91 | initial parameters (loss, other metrics): 726.5062861442566, {'accuracy': 0.0822}\n",
      "INFO flwr 2023-06-12 13:37:42,217 | server.py:101 | FL starting\n"
     ]
    },
    {
     "ename": "KeyboardInterrupt",
     "evalue": "",
     "output_type": "error",
     "traceback": [
      "\u001b[0;31m---------------------------------------------------------------------------\u001b[0m",
      "\u001b[0;31mKeyboardInterrupt\u001b[0m                         Traceback (most recent call last)",
      "Cell \u001b[0;32mIn[8], line 3\u001b[0m\n\u001b[1;32m      1\u001b[0m \u001b[39m# wait for clients to finish\u001b[39;00m\n\u001b[1;32m      2\u001b[0m \u001b[39mfor\u001b[39;00m c \u001b[39min\u001b[39;00m clients:\n\u001b[0;32m----> 3\u001b[0m     c\u001b[39m.\u001b[39;49mwait()\n",
      "File \u001b[0;32m~/anaconda3/envs/dlfl/lib/python3.11/subprocess.py:1262\u001b[0m, in \u001b[0;36mPopen.wait\u001b[0;34m(self, timeout)\u001b[0m\n\u001b[1;32m   1260\u001b[0m     endtime \u001b[39m=\u001b[39m _time() \u001b[39m+\u001b[39m timeout\n\u001b[1;32m   1261\u001b[0m \u001b[39mtry\u001b[39;00m:\n\u001b[0;32m-> 1262\u001b[0m     \u001b[39mreturn\u001b[39;00m \u001b[39mself\u001b[39;49m\u001b[39m.\u001b[39;49m_wait(timeout\u001b[39m=\u001b[39;49mtimeout)\n\u001b[1;32m   1263\u001b[0m \u001b[39mexcept\u001b[39;00m \u001b[39mKeyboardInterrupt\u001b[39;00m:\n\u001b[1;32m   1264\u001b[0m     \u001b[39m# https://bugs.python.org/issue25942\u001b[39;00m\n\u001b[1;32m   1265\u001b[0m     \u001b[39m# The first keyboard interrupt waits briefly for the child to\u001b[39;00m\n\u001b[1;32m   1266\u001b[0m     \u001b[39m# exit under the common assumption that it also received the ^C\u001b[39;00m\n\u001b[1;32m   1267\u001b[0m     \u001b[39m# generated SIGINT and will exit rapidly.\u001b[39;00m\n\u001b[1;32m   1268\u001b[0m     \u001b[39mif\u001b[39;00m timeout \u001b[39mis\u001b[39;00m \u001b[39mnot\u001b[39;00m \u001b[39mNone\u001b[39;00m:\n",
      "File \u001b[0;32m~/anaconda3/envs/dlfl/lib/python3.11/subprocess.py:2013\u001b[0m, in \u001b[0;36mPopen._wait\u001b[0;34m(self, timeout)\u001b[0m\n\u001b[1;32m   2011\u001b[0m \u001b[39mif\u001b[39;00m \u001b[39mself\u001b[39m\u001b[39m.\u001b[39mreturncode \u001b[39mis\u001b[39;00m \u001b[39mnot\u001b[39;00m \u001b[39mNone\u001b[39;00m:\n\u001b[1;32m   2012\u001b[0m     \u001b[39mbreak\u001b[39;00m  \u001b[39m# Another thread waited.\u001b[39;00m\n\u001b[0;32m-> 2013\u001b[0m (pid, sts) \u001b[39m=\u001b[39m \u001b[39mself\u001b[39;49m\u001b[39m.\u001b[39;49m_try_wait(\u001b[39m0\u001b[39;49m)\n\u001b[1;32m   2014\u001b[0m \u001b[39m# Check the pid and loop as waitpid has been known to\u001b[39;00m\n\u001b[1;32m   2015\u001b[0m \u001b[39m# return 0 even without WNOHANG in odd situations.\u001b[39;00m\n\u001b[1;32m   2016\u001b[0m \u001b[39m# http://bugs.python.org/issue14396.\u001b[39;00m\n\u001b[1;32m   2017\u001b[0m \u001b[39mif\u001b[39;00m pid \u001b[39m==\u001b[39m \u001b[39mself\u001b[39m\u001b[39m.\u001b[39mpid:\n",
      "File \u001b[0;32m~/anaconda3/envs/dlfl/lib/python3.11/subprocess.py:1971\u001b[0m, in \u001b[0;36mPopen._try_wait\u001b[0;34m(self, wait_flags)\u001b[0m\n\u001b[1;32m   1969\u001b[0m \u001b[39m\u001b[39m\u001b[39m\"\"\"All callers to this function MUST hold self._waitpid_lock.\"\"\"\u001b[39;00m\n\u001b[1;32m   1970\u001b[0m \u001b[39mtry\u001b[39;00m:\n\u001b[0;32m-> 1971\u001b[0m     (pid, sts) \u001b[39m=\u001b[39m os\u001b[39m.\u001b[39;49mwaitpid(\u001b[39mself\u001b[39;49m\u001b[39m.\u001b[39;49mpid, wait_flags)\n\u001b[1;32m   1972\u001b[0m \u001b[39mexcept\u001b[39;00m \u001b[39mChildProcessError\u001b[39;00m:\n\u001b[1;32m   1973\u001b[0m     \u001b[39m# This happens if SIGCLD is set to be ignored or waiting\u001b[39;00m\n\u001b[1;32m   1974\u001b[0m     \u001b[39m# for child processes has otherwise been disabled for our\u001b[39;00m\n\u001b[1;32m   1975\u001b[0m     \u001b[39m# process.  This child is dead, we can't get the status.\u001b[39;00m\n\u001b[1;32m   1976\u001b[0m     pid \u001b[39m=\u001b[39m \u001b[39mself\u001b[39m\u001b[39m.\u001b[39mpid\n",
      "\u001b[0;31mKeyboardInterrupt\u001b[0m: "
     ]
    }
   ],
   "source": [
    "# wait for clients to finish\n",
    "for c in clients:\n",
    "    c.wait()"
   ]
  },
  {
   "cell_type": "code",
   "execution_count": 9,
   "metadata": {},
   "outputs": [
    {
     "name": "stderr",
     "output_type": "stream",
     "text": [
      "DEBUG flwr 2023-06-12 13:42:45,634 | connection.py:39 | ChannelConnectivity.IDLE\n",
      "DEBUG flwr 2023-06-12 13:42:45,635 | connection.py:39 | ChannelConnectivity.IDLE\n",
      "DEBUG flwr 2023-06-12 13:42:45,840 | connection.py:113 | gRPC channel closed\n",
      "DEBUG flwr 2023-06-12 13:42:45,840 | connection.py:113 | gRPC channel closed\n",
      "Traceback (most recent call last):\n",
      "  File \"/home/jonas/teaching/nhr/workshops/DL-FL-Workshop/examples/cifar-federated/client.py\", line 154, in <module>\n",
      "Traceback (most recent call last):\n",
      "  File \"/home/jonas/teaching/nhr/workshops/DL-FL-Workshop/examples/cifar-federated/client.py\", line 154, in <module>\n",
      "    main()\n",
      "    main()\n",
      "  File \"/home/jonas/teaching/nhr/workshops/DL-FL-Workshop/examples/cifar-federated/client.py\", line 150, in main\n",
      "  File \"/home/jonas/teaching/nhr/workshops/DL-FL-Workshop/examples/cifar-federated/client.py\", line 150, in main\n",
      "    fl.client.start_numpy_client(server_address=\"127.0.0.1:8080\", client=client)\n",
      "    fl.client.start_numpy_client(server_address=\"127.0.0.1:8080\", client=client)\n",
      "  File \"/home/jonas/anaconda3/envs/dlfl/lib/python3.11/site-packages/flwr/client/app.py\", line 252, in start_numpy_client\n",
      "  File \"/home/jonas/anaconda3/envs/dlfl/lib/python3.11/site-packages/flwr/client/app.py\", line 252, in start_numpy_client\n",
      "    start_client(\n",
      "  File \"/home/jonas/anaconda3/envs/dlfl/lib/python3.11/site-packages/flwr/client/app.py\", line 174, in start_client\n",
      "    start_client(\n",
      "  File \"/home/jonas/anaconda3/envs/dlfl/lib/python3.11/site-packages/flwr/client/app.py\", line 174, in start_client\n",
      "    server_message = receive()\n",
      "                     ^^^^^^^^^\n",
      "  File \"/home/jonas/anaconda3/envs/dlfl/lib/python3.11/site-packages/flwr/client/grpc_client/connection.py\", line 105, in <lambda>\n",
      "    server_message = receive()\n",
      "                     ^^^^^^^^^\n",
      "    receive: Callable[[], ServerMessage] = lambda: next(server_message_iterator)  File \"/home/jonas/anaconda3/envs/dlfl/lib/python3.11/site-packages/flwr/client/grpc_client/connection.py\", line 105, in <lambda>\n",
      "\n",
      "                                                   ^^^^^^^^^^^^^^^^^^^^^^^^^^^^^    \n",
      "receive: Callable[[], ServerMessage] = lambda: next(server_message_iterator)\n",
      "  File \"/home/jonas/anaconda3/envs/dlfl/lib/python3.11/site-packages/grpc/_channel.py\", line 475, in __next__\n",
      "                                                   ^^^^^^^^^^^^^^^^^^^^^^^^^^^^^\n",
      "  File \"/home/jonas/anaconda3/envs/dlfl/lib/python3.11/site-packages/grpc/_channel.py\", line 475, in __next__\n",
      "    return self._next()\n",
      "           ^^^^^^^^^^^^\n",
      "  File \"/home/jonas/anaconda3/envs/dlfl/lib/python3.11/site-packages/grpc/_channel.py\", line 881, in _next\n",
      "    return self._next()\n",
      "           ^^^^^^^^^^^^\n",
      "  File \"/home/jonas/anaconda3/envs/dlfl/lib/python3.11/site-packages/grpc/_channel.py\", line 881, in _next\n",
      "    raise self\n",
      "grpc._channel._MultiThreadedRendezvous: <_MultiThreadedRendezvous of RPC that terminated with:\n",
      "\tstatus = StatusCode.UNAVAILABLE\n",
      "\tdetails = \"Socket closed\"\n",
      "\tdebug_error_string = \"UNKNOWN:Error received from peer  {created_time:\"2023-06-12T13:42:45.634311198+02:00\", grpc_status:14, grpc_message:\"Socket closed\"}\"\n",
      ">\n",
      "    raise self\n",
      "grpc._channel._MultiThreadedRendezvous: <_MultiThreadedRendezvous of RPC that terminated with:\n",
      "\tstatus = StatusCode.UNAVAILABLE\n",
      "\tdetails = \"Socket closed\"\n",
      "\tdebug_error_string = \"UNKNOWN:Error received from peer  {grpc_message:\"Socket closed\", grpc_status:14, created_time:\"2023-06-12T13:42:45.634311237+02:00\"}\"\n",
      ">\n"
     ]
    }
   ],
   "source": [
    "server.kill()"
   ]
  },
  {
   "cell_type": "code",
   "execution_count": null,
   "metadata": {},
   "outputs": [],
   "source": []
  }
 ],
 "metadata": {
  "kernelspec": {
   "display_name": "dlfl",
   "language": "python",
   "name": "python3"
  },
  "language_info": {
   "codemirror_mode": {
    "name": "ipython",
    "version": 3
   },
   "file_extension": ".py",
   "mimetype": "text/x-python",
   "name": "python",
   "nbconvert_exporter": "python",
   "pygments_lexer": "ipython3",
   "version": "3.11.3"
  },
  "orig_nbformat": 4
 },
 "nbformat": 4,
 "nbformat_minor": 2
}
