{
 "cells": [
  {
   "cell_type": "code",
   "execution_count": 2,
   "metadata": {},
   "outputs": [],
   "source": [
    "import subprocess"
   ]
  },
  {
   "cell_type": "code",
   "execution_count": 8,
   "metadata": {},
   "outputs": [
    {
     "name": "stderr",
     "output_type": "stream",
     "text": [
      "INFO flwr 2023-06-13 15:16:38,053 | app.py:148 | Starting Flower server, config: ServerConfig(num_rounds=3, round_timeout=None)\n",
      "INFO flwr 2023-06-13 15:16:38,065 | app.py:168 | Flower ECE: gRPC server running (3 rounds), SSL is disabled\n",
      "INFO flwr 2023-06-13 15:16:38,065 | server.py:86 | Initializing global parameters\n",
      "INFO flwr 2023-06-13 15:16:38,065 | server.py:273 | Requesting initial parameters from one random client\n"
     ]
    }
   ],
   "source": [
    "# start server\n",
    "server = subprocess.Popen(['python', 'server.py'])"
   ]
  },
  {
   "cell_type": "code",
   "execution_count": 9,
   "metadata": {},
   "outputs": [],
   "source": [
    "# start clients\n",
    "CLIENTS_NR = 2\n",
    "clients = []\n",
    "for c in range(CLIENTS_NR):\n",
    "    client = subprocess.Popen(['python', 'dp_cifar_client.py', '--gpu', str(c)])\n",
    "    clients.append(client)"
   ]
  },
  {
   "cell_type": "code",
   "execution_count": 10,
   "metadata": {},
   "outputs": [
    {
     "name": "stderr",
     "output_type": "stream",
     "text": [
      "/cvmfs/sys.hpc.itc.rwth-aachen.de/jupyter/clients/nhr-ml-workshop/lib/python3.9/site-packages/opacus/privacy_engine.py:142: UserWarning: Secure RNG turned off. This is perfectly fine for experimentation as it allows for much faster training performance, but remember to turn it on and retrain one last time before production with ``secure_mode`` turned on.\n",
      "  warnings.warn(\n",
      "/cvmfs/sys.hpc.itc.rwth-aachen.de/jupyter/clients/nhr-ml-workshop/lib/python3.9/site-packages/opacus/privacy_engine.py:142: UserWarning: Secure RNG turned off. This is perfectly fine for experimentation as it allows for much faster training performance, but remember to turn it on and retrain one last time before production with ``secure_mode`` turned on.\n",
      "  warnings.warn(\n",
      "INFO flwr 2023-06-13 15:16:46,735 | grpc.py:50 | Opened insecure gRPC connection (no certificates were passed)\n",
      "06/13/2023 15:16:46:INFO:Opened insecure gRPC connection (no certificates were passed)\n",
      "DEBUG flwr 2023-06-13 15:16:46,753 | connection.py:39 | ChannelConnectivity.IDLE\n",
      "06/13/2023 15:16:46:DEBUG:ChannelConnectivity.IDLE\n",
      "INFO flwr 2023-06-13 15:16:46,753 | grpc.py:50 | Opened insecure gRPC connection (no certificates were passed)\n",
      "06/13/2023 15:16:46:INFO:Opened insecure gRPC connection (no certificates were passed)\n",
      "DEBUG flwr 2023-06-13 15:16:46,754 | connection.py:39 | ChannelConnectivity.READY\n",
      "06/13/2023 15:16:46:DEBUG:ChannelConnectivity.READY\n",
      "INFO flwr 2023-06-13 15:16:46,759 | server.py:277 | Received initial parameters from one random client\n",
      "INFO flwr 2023-06-13 15:16:46,759 | server.py:88 | Evaluating initial parameters\n",
      "INFO flwr 2023-06-13 15:16:46,759 | server.py:101 | FL starting\n",
      "DEBUG flwr 2023-06-13 15:16:46,781 | connection.py:39 | ChannelConnectivity.IDLE\n",
      "06/13/2023 15:16:46:DEBUG:ChannelConnectivity.IDLE\n",
      "DEBUG flwr 2023-06-13 15:16:46,802 | server.py:218 | fit_round 1: strategy sampled 2 clients (out of 2)\n",
      "DEBUG flwr 2023-06-13 15:16:46,805 | connection.py:39 | ChannelConnectivity.READY\n",
      "06/13/2023 15:16:46:DEBUG:ChannelConnectivity.READY\n",
      "/cvmfs/sys.hpc.itc.rwth-aachen.de/jupyter/clients/nhr-ml-workshop/lib/python3.9/site-packages/torch/nn/modules/module.py:1117: UserWarning: Using a non-full backward hook when the forward contains multiple autograd Nodes is deprecated and will be removed in future versions. This hook will be missing some grad_input. Please use register_full_backward_hook to get the documented behavior.\n",
      "  warnings.warn(\"Using a non-full backward hook when the forward contains multiple autograd Nodes \"\n",
      "/cvmfs/sys.hpc.itc.rwth-aachen.de/jupyter/clients/nhr-ml-workshop/lib/python3.9/site-packages/torch/nn/modules/module.py:1117: UserWarning: Using a non-full backward hook when the forward contains multiple autograd Nodes is deprecated and will be removed in future versions. This hook will be missing some grad_input. Please use register_full_backward_hook to get the documented behavior.\n",
      "  warnings.warn(\"Using a non-full backward hook when the forward contains multiple autograd Nodes \"\n",
      "DEBUG flwr 2023-06-13 15:16:58,464 | server.py:232 | fit_round 1 received 2 results and 0 failures\n",
      "WARNING flwr 2023-06-13 15:16:58,471 | fedavg.py:243 | No fit_metrics_aggregation_fn provided\n",
      "DEBUG flwr 2023-06-13 15:16:58,471 | server.py:168 | evaluate_round 1: strategy sampled 2 clients (out of 2)\n",
      "DEBUG flwr 2023-06-13 15:17:03,129 | server.py:182 | evaluate_round 1 received 2 results and 0 failures\n",
      "WARNING flwr 2023-06-13 15:17:03,129 | fedavg.py:274 | No evaluate_metrics_aggregation_fn provided\n",
      "DEBUG flwr 2023-06-13 15:17:03,129 | server.py:218 | fit_round 2: strategy sampled 2 clients (out of 2)\n",
      "DEBUG flwr 2023-06-13 15:17:12,535 | server.py:232 | fit_round 2 received 2 results and 0 failures\n",
      "DEBUG flwr 2023-06-13 15:17:12,538 | server.py:168 | evaluate_round 2: strategy sampled 2 clients (out of 2)\n",
      "DEBUG flwr 2023-06-13 15:17:17,441 | server.py:182 | evaluate_round 2 received 2 results and 0 failures\n",
      "DEBUG flwr 2023-06-13 15:17:17,442 | server.py:218 | fit_round 3: strategy sampled 2 clients (out of 2)\n",
      "DEBUG flwr 2023-06-13 15:17:26,750 | server.py:232 | fit_round 3 received 2 results and 0 failures\n",
      "DEBUG flwr 2023-06-13 15:17:26,754 | server.py:168 | evaluate_round 3: strategy sampled 2 clients (out of 2)\n",
      "DEBUG flwr 2023-06-13 15:17:31,833 | server.py:182 | evaluate_round 3 received 2 results and 0 failures\n",
      "INFO flwr 2023-06-13 15:17:31,833 | server.py:147 | FL finished in 45.07408956810832\n",
      "INFO flwr 2023-06-13 15:17:31,833 | app.py:218 | app_fit: losses_distributed [(1, 1078.8663330078125), (2, 1074.29296875), (3, 1056.1982421875)]\n",
      "INFO flwr 2023-06-13 15:17:31,833 | app.py:219 | app_fit: metrics_distributed_fit {}\n",
      "INFO flwr 2023-06-13 15:17:31,833 | app.py:220 | app_fit: metrics_distributed {}\n",
      "INFO flwr 2023-06-13 15:17:31,833 | app.py:221 | app_fit: losses_centralized []\n",
      "INFO flwr 2023-06-13 15:17:31,833 | app.py:222 | app_fit: metrics_centralized {}\n",
      "DEBUG flwr 2023-06-13 15:17:31,860 | connection.py:113 | gRPC channel closed\n",
      "06/13/2023 15:17:31:DEBUG:gRPC channel closed\n",
      "INFO flwr 2023-06-13 15:17:31,860 | app.py:185 | Disconnect and shut down\n",
      "06/13/2023 15:17:31:INFO:Disconnect and shut down\n",
      "DEBUG flwr 2023-06-13 15:17:31,887 | connection.py:113 | gRPC channel closed\n",
      "06/13/2023 15:17:31:DEBUG:gRPC channel closed\n",
      "INFO flwr 2023-06-13 15:17:31,887 | app.py:185 | Disconnect and shut down\n",
      "06/13/2023 15:17:31:INFO:Disconnect and shut down\n"
     ]
    },
    {
     "name": "stdout",
     "output_type": "stream",
     "text": [
      "Files already downloaded and verified\n",
      "Files already downloaded and verified\n"
     ]
    }
   ],
   "source": [
    "# wait for clients to finish\n",
    "for c in clients:\n",
    "    c.wait()"
   ]
  },
  {
   "cell_type": "code",
   "execution_count": 11,
   "metadata": {},
   "outputs": [],
   "source": [
    "server.kill()"
   ]
  },
  {
   "cell_type": "code",
   "execution_count": null,
   "metadata": {},
   "outputs": [],
   "source": []
  }
 ],
 "metadata": {
  "kernelspec": {
   "display_name": "Python 3 (ipykernel)",
   "language": "python",
   "name": "python3"
  },
  "language_info": {
   "codemirror_mode": {
    "name": "ipython",
    "version": 3
   },
   "file_extension": ".py",
   "mimetype": "text/x-python",
   "name": "python",
   "nbconvert_exporter": "python",
   "pygments_lexer": "ipython3",
   "version": "3.9.16"
  }
 },
 "nbformat": 4,
 "nbformat_minor": 4
}
