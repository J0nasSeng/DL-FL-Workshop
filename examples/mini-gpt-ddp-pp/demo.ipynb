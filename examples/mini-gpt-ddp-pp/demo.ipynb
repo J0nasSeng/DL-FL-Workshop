{
 "cells": [
  {
   "cell_type": "code",
   "execution_count": 1,
   "metadata": {},
   "outputs": [
    {
     "data": {
      "text/plain": [
       "True"
      ]
     },
     "execution_count": 1,
     "metadata": {},
     "output_type": "execute_result"
    }
   ],
   "source": [
    "import torch\n",
    "torch.cuda.is_available()"
   ]
  },
  {
   "cell_type": "code",
   "execution_count": 2,
   "metadata": {},
   "outputs": [
    {
     "name": "stdout",
     "output_type": "stream",
     "text": [
      "WARNING:torch.distributed.run:\n",
      "*****************************************\n",
      "Setting OMP_NUM_THREADS environment variable for each process to be 1 in default, to avoid your system being overloaded, please further tune the variable for optimal performance in your application as needed. \n",
      "*****************************************\n",
      "Traceback (most recent call last):\n",
      "  File \"/rwthfs/rz/cluster/home/ux270150/jupyterlab/DL-FL-Workshop/examples/mini-gpt-ddp-pp/main.py\", line 1, in <module>\n",
      "    from model import GPT, GPTConfig, OptimizerConfig, create_optimizer\n",
      "  File \"/rwthfs/rz/cluster/home/ux270150/jupyterlab/DL-FL-Workshop/examples/mini-gpt-ddp-pp/model.py\", line 12, in <module>\n",
      "    from torch.distributed.pipeline import Pipe\n",
      "ImportError: cannot import name 'Pipe' from 'torch.distributed.pipeline' (/cvmfs/sys.hpc.itc.rwth-aachen.de/jupyter/clients/nhr-ml-workshop/lib/python3.9/site-packages/torch/distributed/pipeline/__init__.py)\n",
      "Traceback (most recent call last):\n",
      "  File \"/rwthfs/rz/cluster/home/ux270150/jupyterlab/DL-FL-Workshop/examples/mini-gpt-ddp-pp/main.py\", line 1, in <module>\n",
      "    from model import GPT, GPTConfig, OptimizerConfig, create_optimizer\n",
      "  File \"/rwthfs/rz/cluster/home/ux270150/jupyterlab/DL-FL-Workshop/examples/mini-gpt-ddp-pp/model.py\", line 12, in <module>\n",
      "    from torch.distributed.pipeline import Pipe\n",
      "ImportError: cannot import name 'Pipe' from 'torch.distributed.pipeline' (/cvmfs/sys.hpc.itc.rwth-aachen.de/jupyter/clients/nhr-ml-workshop/lib/python3.9/site-packages/torch/distributed/pipeline/__init__.py)\n",
      "ERROR:torch.distributed.elastic.multiprocessing.api:failed (exitcode: 1) local_rank: 0 (pid: 165095) of binary: /cvmfs/sys.hpc.itc.rwth-aachen.de/jupyter/clients/nhr-ml-workshop/bin/python\n",
      "Traceback (most recent call last):\n",
      "  File \"/cvmfs/sys.hpc.itc.rwth-aachen.de/jupyter/clients/nhr-ml-workshop/bin/torchrun\", line 33, in <module>\n",
      "    sys.exit(load_entry_point('torch==1.13.1', 'console_scripts', 'torchrun')())\n",
      "  File \"/cvmfs/sys.hpc.itc.rwth-aachen.de/jupyter/clients/nhr-ml-workshop/lib/python3.9/site-packages/torch/distributed/elastic/multiprocessing/errors/__init__.py\", line 346, in wrapper\n",
      "    return f(*args, **kwargs)\n",
      "  File \"/cvmfs/sys.hpc.itc.rwth-aachen.de/jupyter/clients/nhr-ml-workshop/lib/python3.9/site-packages/torch/distributed/run.py\", line 762, in main\n",
      "    run(args)\n",
      "  File \"/cvmfs/sys.hpc.itc.rwth-aachen.de/jupyter/clients/nhr-ml-workshop/lib/python3.9/site-packages/torch/distributed/run.py\", line 753, in run\n",
      "    elastic_launch(\n",
      "  File \"/cvmfs/sys.hpc.itc.rwth-aachen.de/jupyter/clients/nhr-ml-workshop/lib/python3.9/site-packages/torch/distributed/launcher/api.py\", line 132, in __call__\n",
      "    return launch_agent(self._config, self._entrypoint, list(args))\n",
      "  File \"/cvmfs/sys.hpc.itc.rwth-aachen.de/jupyter/clients/nhr-ml-workshop/lib/python3.9/site-packages/torch/distributed/launcher/api.py\", line 246, in launch_agent\n",
      "    raise ChildFailedError(\n",
      "torch.distributed.elastic.multiprocessing.errors.ChildFailedError: \n",
      "============================================================\n",
      "main.py FAILED\n",
      "------------------------------------------------------------\n",
      "Failures:\n",
      "[1]:\n",
      "  time      : 2023-06-13_15:21:30\n",
      "  host      : ncg44.hpc.itc.rwth-aachen.de\n",
      "  rank      : 1 (local_rank: 1)\n",
      "  exitcode  : 1 (pid: 165096)\n",
      "  error_file: <N/A>\n",
      "  traceback : To enable traceback see: https://pytorch.org/docs/stable/elastic/errors.html\n",
      "------------------------------------------------------------\n",
      "Root Cause (first observed failure):\n",
      "[0]:\n",
      "  time      : 2023-06-13_15:21:30\n",
      "  host      : ncg44.hpc.itc.rwth-aachen.de\n",
      "  rank      : 0 (local_rank: 0)\n",
      "  exitcode  : 1 (pid: 165095)\n",
      "  error_file: <N/A>\n",
      "  traceback : To enable traceback see: https://pytorch.org/docs/stable/elastic/errors.html\n",
      "============================================================\n"
     ]
    }
   ],
   "source": [
    "!torchrun --nproc_per_node=2 main.py"
   ]
  },
  {
   "cell_type": "code",
   "execution_count": 3,
   "metadata": {},
   "outputs": [],
   "source": [
    "import subprocess"
   ]
  },
  {
   "cell_type": "code",
   "execution_count": 15,
   "metadata": {},
   "outputs": [],
   "source": [
    "CLIENTS_NR = 2\n",
    "clients = []\n",
    "for c in range(CLIENTS_NR):\n",
    "    client = subprocess.Popen(['python', 'main.py', '--id', str(c)])\n",
    "    clients.append(client)"
   ]
  },
  {
   "cell_type": "code",
   "execution_count": 16,
   "metadata": {},
   "outputs": [
    {
     "name": "stderr",
     "output_type": "stream",
     "text": [
      "usage: main.py [--help] [--hydra-help] [--version] [--cfg {job,hydra,all}]\n",
      "               [--resolve] [--package PACKAGE] [--run] [--multirun]\n",
      "               [--shell-completion] [--config-path CONFIG_PATH]\n",
      "               [--config-name CONFIG_NAME] [--config-dir CONFIG_DIR]\n",
      "               [--experimental-rerun EXPERIMENTAL_RERUN]\n",
      "               [--info [{all,config,defaults,defaults-tree,plugins,searchpath}]]\n",
      "               [overrides ...]\n",
      "main.py: error: unrecognized arguments: --id\n",
      "usage: main.py [--help] [--hydra-help] [--version] [--cfg {job,hydra,all}]\n",
      "               [--resolve] [--package PACKAGE] [--run] [--multirun]\n",
      "               [--shell-completion] [--config-path CONFIG_PATH]\n",
      "               [--config-name CONFIG_NAME] [--config-dir CONFIG_DIR]\n",
      "               [--experimental-rerun EXPERIMENTAL_RERUN]\n",
      "               [--info [{all,config,defaults,defaults-tree,plugins,searchpath}]]\n",
      "               [overrides ...]\n",
      "main.py: error: unrecognized arguments: --id\n",
      "[W tensorpipe_agent.cpp:726] RPC agent for worker_1 encountered error when reading incoming request from worker_0: EOF: end of file (this error originated at tensorpipe/transport/uv/connection_impl.cc:132)\n"
     ]
    }
   ],
   "source": [
    "# wait for clients to finish\n",
    "for c in clients:\n",
    "    c.wait()"
   ]
  },
  {
   "cell_type": "code",
   "execution_count": null,
   "metadata": {},
   "outputs": [],
   "source": []
  }
 ],
 "metadata": {
  "kernelspec": {
   "display_name": "Python 3 (ipykernel)",
   "language": "python",
   "name": "python3"
  },
  "language_info": {
   "codemirror_mode": {
    "name": "ipython",
    "version": 3
   },
   "file_extension": ".py",
   "mimetype": "text/x-python",
   "name": "python",
   "nbconvert_exporter": "python",
   "pygments_lexer": "ipython3",
   "version": "3.9.16"
  }
 },
 "nbformat": 4,
 "nbformat_minor": 4
}
